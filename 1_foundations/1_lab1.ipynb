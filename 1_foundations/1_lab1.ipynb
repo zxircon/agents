{
 "cells": [
  {
   "cell_type": "markdown",
   "metadata": {},
   "source": [
    "# Welcome to the start of your adventure in Agentic AI"
   ]
  },
  {
   "cell_type": "markdown",
   "metadata": {},
   "source": [
    "<table style=\"margin: 0; text-align: left; width:100%\">\n",
    "    <tr>\n",
    "        <td style=\"width: 150px; height: 150px; vertical-align: middle;\">\n",
    "            <img src=\"../assets/stop.png\" width=\"150\" height=\"150\" style=\"display: block;\" />\n",
    "        </td>\n",
    "        <td>\n",
    "            <h2 style=\"color:#ff7800;\">Are you ready for action??</h2>\n",
    "            <span style=\"color:#ff7800;\">Have you completed all the setup steps in the <a href=\"../setup/\">setup</a> folder?<br/>\n",
    "            Have you read the <a href=\"../README.md\">README</a>? Many common questions are answered here!<br/>\n",
    "            Have you checked out the guides in the <a href=\"../guides/01_intro.ipynb\">guides</a> folder?<br/>\n",
    "            Well in that case, you're ready!!\n",
    "            </span>\n",
    "        </td>\n",
    "    </tr>\n",
    "</table>"
   ]
  },
  {
   "cell_type": "markdown",
   "metadata": {},
   "source": [
    "<table style=\"margin: 0; text-align: left; width:100%\">\n",
    "    <tr>\n",
    "        <td style=\"width: 150px; height: 150px; vertical-align: middle;\">\n",
    "            <img src=\"../assets/tools.png\" width=\"150\" height=\"150\" style=\"display: block;\" />\n",
    "        </td>\n",
    "        <td>\n",
    "            <h2 style=\"color:#00bfff;\">This code is a live resource - keep an eye out for my updates</h2>\n",
    "            <span style=\"color:#00bfff;\">I push updates regularly. As people ask questions or have problems, I add more examples and improve explanations. As a result, the code below might not be identical to the videos, as I've added more steps and better comments. Consider this like an interactive book that accompanies the lectures.<br/><br/>\n",
    "            I try to send emails regularly with important updates related to the course. You can find this in the 'Announcements' section of Udemy in the left sidebar. You can also choose to receive my emails via your Notification Settings in Udemy. I'm respectful of your inbox and always try to add value with my emails!\n",
    "            </span>\n",
    "        </td>\n",
    "    </tr>\n",
    "</table>"
   ]
  },
  {
   "cell_type": "markdown",
   "metadata": {},
   "source": [
    "### And please do remember to contact me if I can help\n",
    "\n",
    "And I love to connect: https://www.linkedin.com/in/eddonner/\n",
    "\n",
    "\n",
    "### New to Notebooks like this one? Head over to the guides folder!\n",
    "\n",
    "Just to check you've already added the Python and Jupyter extensions to Cursor, if not already installed:\n",
    "- Open extensions (View >> extensions)\n",
    "- Search for python, and when the results show, click on the ms-python one, and Install it if not already installed\n",
    "- Search for jupyter, and when the results show, click on the Microsoft one, and Install it if not already installed  \n",
    "Then View >> Explorer to bring back the File Explorer.\n",
    "\n",
    "And then:\n",
    "1. Click where it says \"Select Kernel\" near the top right, and select the option called `.venv (Python 3.12.9)` or similar, which should be the first choice or the most prominent choice. You may need to choose \"Python Environments\" first.\n",
    "2. Click in each \"cell\" below, starting with the cell immediately below this text, and press Shift+Enter to run\n",
    "3. Enjoy!\n",
    "\n",
    "After you click \"Select Kernel\", if there is no option like `.venv (Python 3.12.9)` then please do the following:  \n",
    "1. On Mac: From the Cursor menu, choose Settings >> VS Code Settings (NOTE: be sure to select `VSCode Settings` not `Cursor Settings`);  \n",
    "On Windows PC: From the File menu, choose Preferences >> VS Code Settings(NOTE: be sure to select `VSCode Settings` not `Cursor Settings`)  \n",
    "2. In the Settings search bar, type \"venv\"  \n",
    "3. In the field \"Path to folder with a list of Virtual Environments\" put the path to the project root, like C:\\Users\\username\\projects\\agents (on a Windows PC) or /Users/username/projects/agents (on Mac or Linux).  \n",
    "And then try again.\n",
    "\n",
    "Having problems with missing Python versions in that list? Have you ever used Anaconda before? It might be interferring. Quit Cursor, bring up a new command line, and make sure that your Anaconda environment is deactivated:    \n",
    "`conda deactivate`  \n",
    "And if you still have any problems with conda and python versions, it's possible that you will need to run this too:  \n",
    "`conda config --set auto_activate_base false`  \n",
    "and then from within the Agents directory, you should be able to run `uv python list` and see the Python 3.12 version."
   ]
  },
  {
   "cell_type": "code",
   "execution_count": 1,
   "metadata": {},
   "outputs": [],
   "source": [
    "# First let's do an import. If you get an Import Error, double check that your Kernel is correct..\n",
    "\n",
    "from dotenv import load_dotenv\n"
   ]
  },
  {
   "cell_type": "code",
   "execution_count": 2,
   "metadata": {},
   "outputs": [
    {
     "data": {
      "text/plain": [
       "True"
      ]
     },
     "execution_count": 2,
     "metadata": {},
     "output_type": "execute_result"
    }
   ],
   "source": [
    "# Next it's time to load the API keys into environment variables\n",
    "# If this returns false, see the next cell!\n",
    "\n",
    "load_dotenv(override=True)"
   ]
  },
  {
   "cell_type": "markdown",
   "metadata": {},
   "source": [
    "### Wait, did that just output `False`??\n",
    "\n",
    "If so, the most common reason is that you didn't save your `.env` file after adding the key! Be sure to have saved.\n",
    "\n",
    "Also, make sure the `.env` file is named precisely `.env` and is in the project root directory (`agents`)\n",
    "\n",
    "By the way, your `.env` file should have a stop symbol next to it in Cursor on the left, and that's actually a good thing: that's Cursor saying to you, \"hey, I realize this is a file filled with secret information, and I'm not going to send it to an external AI to suggest changes, because your keys should not be shown to anyone else.\""
   ]
  },
  {
   "cell_type": "markdown",
   "metadata": {},
   "source": [
    "<table style=\"margin: 0; text-align: left; width:100%\">\n",
    "    <tr>\n",
    "        <td style=\"width: 150px; height: 150px; vertical-align: middle;\">\n",
    "            <img src=\"../assets/stop.png\" width=\"150\" height=\"150\" style=\"display: block;\" />\n",
    "        </td>\n",
    "        <td>\n",
    "            <h2 style=\"color:#ff7800;\">Final reminders</h2>\n",
    "            <span style=\"color:#ff7800;\">1. If you're not confident about Environment Variables or Web Endpoints / APIs, please read Topics 3 and 5 in this <a href=\"../guides/04_technical_foundations.ipynb\">technical foundations guide</a>.<br/>\n",
    "            2. If you want to use AIs other than OpenAI, like Gemini, DeepSeek or Ollama (free), please see the first section in this <a href=\"../guides/09_ai_apis_and_ollama.ipynb\">AI APIs guide</a>.<br/>\n",
    "            3. If you ever get a Name Error in Python, you can always fix it immediately; see the last section of this <a href=\"../guides/06_python_foundations.ipynb\">Python Foundations guide</a> and follow both tutorials and exercises.<br/>\n",
    "            </span>\n",
    "        </td>\n",
    "    </tr>\n",
    "</table>"
   ]
  },
  {
   "cell_type": "code",
   "execution_count": 3,
   "metadata": {},
   "outputs": [
    {
     "name": "stdout",
     "output_type": "stream",
     "text": [
      "OpenAI API Key exists and begins sk-proj-\n"
     ]
    }
   ],
   "source": [
    "# Check the key - if you're not using OpenAI, check whichever key you're using! Ollama doesn't need a key.\n",
    "\n",
    "import os\n",
    "openai_api_key = os.getenv('OPENAI_API_KEY')\n",
    "\n",
    "if openai_api_key:\n",
    "    print(f\"OpenAI API Key exists and begins {openai_api_key[:8]}\")\n",
    "else:\n",
    "    print(\"OpenAI API Key not set - please head to the troubleshooting guide in the setup folder\")\n",
    "    \n"
   ]
  },
  {
   "cell_type": "code",
   "execution_count": 4,
   "metadata": {},
   "outputs": [],
   "source": [
    "# And now - the all important import statement\n",
    "# If you get an import error - head over to troubleshooting in the Setup folder\n",
    "# Even for other LLM providers like Gemini, you still use this OpenAI import - see Guide 9 for why\n",
    "\n",
    "from openai import OpenAI"
   ]
  },
  {
   "cell_type": "code",
   "execution_count": 5,
   "metadata": {},
   "outputs": [],
   "source": [
    "# And now we'll create an instance of the OpenAI class\n",
    "# If you're not sure what it means to create an instance of a class - head over to the guides folder (guide 6)!\n",
    "# If you get a NameError - head over to the guides folder (guide 6)to learn about NameErrors - always instantly fixable\n",
    "# If you're not using OpenAI, you just need to slightly modify this - precise instructions are in the AI APIs guide (guide 9)\n",
    "\n",
    "openai = OpenAI()"
   ]
  },
  {
   "cell_type": "code",
   "execution_count": null,
   "metadata": {},
   "outputs": [],
   "source": [
    "# Create a list of messages in the familiar OpenAI format\n",
    "\n",
    "messages = [{\"role\": \"user\", \"content\": \"What is 2+2?\"}]"
   ]
  },
  {
   "cell_type": "code",
   "execution_count": 7,
   "metadata": {},
   "outputs": [
    {
     "name": "stdout",
     "output_type": "stream",
     "text": [
      "2 + 2 equals 4.\n"
     ]
    }
   ],
   "source": [
    "# And now call it! Any problems, head to the troubleshooting guide\n",
    "# This uses GPT 4.1 nano, the incredibly cheap model\n",
    "# The APIs guide (guide 9) has exact instructions for using even cheaper or free alternatives to OpenAI\n",
    "# If you get a NameError, head to the guides folder (guide 6) to learn about NameErrors - always instantly fixable\n",
    "\n",
    "response = openai.chat.completions.create(\n",
    "    model=\"gpt-4.1-nano\",\n",
    "    messages=messages\n",
    ")\n",
    "\n",
    "print(response.choices[0].message.content)\n"
   ]
  },
  {
   "cell_type": "code",
   "execution_count": 8,
   "metadata": {},
   "outputs": [],
   "source": [
    "# And now - let's ask for a question:\n",
    "\n",
    "question = \"Please propose a hard, challenging question to assess someone's IQ. Respond only with the question.\"\n",
    "messages = [{\"role\": \"user\", \"content\": question}]\n"
   ]
  },
  {
   "cell_type": "code",
   "execution_count": 10,
   "metadata": {},
   "outputs": [
    {
     "name": "stdout",
     "output_type": "stream",
     "text": [
      "If two trains start at the same time from stations 180 miles apart, traveling toward each other on parallel tracks, one at 40 mph and the other at 50 mph, a bird starts flying from the first train toward the second at 70 mph. When it reaches the second train, it immediately turns around and flies back to the first train, repeating this back-and-forth until the trains meet. How far does the bird travel before the trains collide?\n"
     ]
    }
   ],
   "source": [
    "# ask it - this uses GPT 4.1 mini, still cheap but more powerful than nano\n",
    "\n",
    "response = openai.chat.completions.create(\n",
    "    model=\"gpt-4.1-mini\",\n",
    "    messages=messages\n",
    ")\n",
    "\n",
    "question = response.choices[0].message.content\n",
    "\n",
    "print(question)\n"
   ]
  },
  {
   "cell_type": "code",
   "execution_count": 11,
   "metadata": {},
   "outputs": [],
   "source": [
    "# form a new messages list\n",
    "messages = [{\"role\": \"user\", \"content\": question}]\n"
   ]
  },
  {
   "cell_type": "code",
   "execution_count": 12,
   "metadata": {},
   "outputs": [
    {
     "name": "stdout",
     "output_type": "stream",
     "text": [
      "Let's analyze the problem step-by-step.\n",
      "\n",
      "### Given:\n",
      "- Distance between two stations = 180 miles\n",
      "- Speed of Train A = 40 mph\n",
      "- Speed of Train B = 50 mph\n",
      "- Speed of bird = 70 mph\n",
      "- The bird starts from Train A, flies to Train B, then immediately turns around and flies back to Train A, repeating this until the trains meet.\n",
      "\n",
      "### Question:\n",
      "*How far does the bird travel before the trains collide?*\n",
      "\n",
      "---\n",
      "\n",
      "### Step 1: Calculate the time until the trains meet\n",
      "\n",
      "The trains are moving toward each other, so their relative speed is:\n",
      "\\[\n",
      "40 + 50 = 90 \\text{ mph}\n",
      "\\]\n",
      "\n",
      "The initial distance is 180 miles, so the time \\(t\\) until they meet is:\n",
      "\\[\n",
      "t = \\frac{\\text{distance}}{\\text{relative speed}} = \\frac{180}{90} = 2 \\text{ hours}\n",
      "\\]\n",
      "\n",
      "---\n",
      "\n",
      "### Step 2: Calculate the distance the bird travels\n",
      "\n",
      "Since the bird flies continuously at 70 mph until the trains meet (for 2 hours), the total distance the bird travels is:\n",
      "\\[\n",
      "\\text{bird distance} = \\text{bird speed} \\times \\text{time} = 70 \\times 2 = 140 \\text{ miles}\n",
      "\\]\n",
      "\n",
      "---\n",
      "\n",
      "### **Answer:**\n",
      "\\[\n",
      "\\boxed{140 \\text{ miles}}\n",
      "\\]\n",
      "\n",
      "The back-and-forth trips of the bird do not affect the total distance it covers; it just adds complexity but the straightforward approach applies here.\n"
     ]
    }
   ],
   "source": [
    "# Ask it again\n",
    "\n",
    "response = openai.chat.completions.create(\n",
    "    model=\"gpt-4.1-mini\",\n",
    "    messages=messages\n",
    ")\n",
    "\n",
    "answer = response.choices[0].message.content\n",
    "print(answer)\n"
   ]
  },
  {
   "cell_type": "code",
   "execution_count": 13,
   "metadata": {},
   "outputs": [
    {
     "data": {
      "text/markdown": [
       "Let's analyze the problem step-by-step.\n",
       "\n",
       "### Given:\n",
       "- Distance between two stations = 180 miles\n",
       "- Speed of Train A = 40 mph\n",
       "- Speed of Train B = 50 mph\n",
       "- Speed of bird = 70 mph\n",
       "- The bird starts from Train A, flies to Train B, then immediately turns around and flies back to Train A, repeating this until the trains meet.\n",
       "\n",
       "### Question:\n",
       "*How far does the bird travel before the trains collide?*\n",
       "\n",
       "---\n",
       "\n",
       "### Step 1: Calculate the time until the trains meet\n",
       "\n",
       "The trains are moving toward each other, so their relative speed is:\n",
       "\\[\n",
       "40 + 50 = 90 \\text{ mph}\n",
       "\\]\n",
       "\n",
       "The initial distance is 180 miles, so the time \\(t\\) until they meet is:\n",
       "\\[\n",
       "t = \\frac{\\text{distance}}{\\text{relative speed}} = \\frac{180}{90} = 2 \\text{ hours}\n",
       "\\]\n",
       "\n",
       "---\n",
       "\n",
       "### Step 2: Calculate the distance the bird travels\n",
       "\n",
       "Since the bird flies continuously at 70 mph until the trains meet (for 2 hours), the total distance the bird travels is:\n",
       "\\[\n",
       "\\text{bird distance} = \\text{bird speed} \\times \\text{time} = 70 \\times 2 = 140 \\text{ miles}\n",
       "\\]\n",
       "\n",
       "---\n",
       "\n",
       "### **Answer:**\n",
       "\\[\n",
       "\\boxed{140 \\text{ miles}}\n",
       "\\]\n",
       "\n",
       "The back-and-forth trips of the bird do not affect the total distance it covers; it just adds complexity but the straightforward approach applies here."
      ],
      "text/plain": [
       "<IPython.core.display.Markdown object>"
      ]
     },
     "metadata": {},
     "output_type": "display_data"
    }
   ],
   "source": [
    "from IPython.display import Markdown, display\n",
    "\n",
    "display(Markdown(answer))\n",
    "\n"
   ]
  },
  {
   "cell_type": "markdown",
   "metadata": {},
   "source": [
    "# Congratulations!\n",
    "\n",
    "That was a small, simple step in the direction of Agentic AI, with your new environment!\n",
    "\n",
    "Next time things get more interesting..."
   ]
  },
  {
   "cell_type": "markdown",
   "metadata": {},
   "source": [
    "<table style=\"margin: 0; text-align: left; width:100%\">\n",
    "    <tr>\n",
    "        <td style=\"width: 150px; height: 150px; vertical-align: middle;\">\n",
    "            <img src=\"../assets/exercise.png\" width=\"150\" height=\"150\" style=\"display: block;\" />\n",
    "        </td>\n",
    "        <td>\n",
    "            <h2 style=\"color:#ff7800;\">Exercise</h2>\n",
    "            <span style=\"color:#ff7800;\">Now try this commercial application:<br/>\n",
    "            First ask the LLM to pick a business area that might be worth exploring for an Agentic AI opportunity.<br/>\n",
    "            Then ask the LLM to present a pain-point in that industry - something challenging that might be ripe for an Agentic solution.<br/>\n",
    "            Finally have 3 third LLM call propose the Agentic AI solution. <br/>\n",
    "            We will cover this at up-coming labs, so don't worry if you're unsure.. just give it a try!\n",
    "            </span>\n",
    "        </td>\n",
    "    </tr>\n",
    "</table>"
   ]
  },
  {
   "cell_type": "code",
   "execution_count": 15,
   "metadata": {},
   "outputs": [
    {
     "name": "stdout",
     "output_type": "stream",
     "text": [
      "Business Idea: Let's analyze the problem step-by-step.\n",
      "\n",
      "---\n",
      "\n",
      "### Given:\n",
      "- Distance between the stations = 180 miles\n",
      "- Speed of Train 1 = 40 mph\n",
      "- Speed of Train 2 = 50 mph\n",
      "- Speed of the bird = 70 mph\n",
      "\n",
      "---\n",
      "\n",
      "### Step 1: Find the time until the trains meet.\n",
      "\n",
      "The trains are moving toward each other, so their relative speed is:\n",
      "\n",
      "\\[\n",
      "40 \\text{ mph} + 50 \\text{ mph} = 90 \\text{ mph}\n",
      "\\]\n",
      "\n",
      "They start 180 miles apart, so time \\( t \\) until they meet is:\n",
      "\n",
      "\\[\n",
      "t = \\frac{\\text{distance}}{\\text{relative speed}} = \\frac{180}{90} = 2 \\text{ hours}\n",
      "\\]\n",
      "\n",
      "---\n",
      "\n",
      "### Step 2: Find the distance the bird travels.\n",
      "\n",
      "The bird flies continuously at 70 mph for the entire 2 hours, so the total distance the bird travels is:\n",
      "\n",
      "\\[\n",
      "\\text{distance} = \\text{speed} \\times \\text{time} = 70 \\times 2 = 140 \\text{ miles}\n",
      "\\]\n",
      "\n",
      "---\n",
      "\n",
      "### **Final answer:**\n",
      "\n",
      "\\[\n",
      "\\boxed{140 \\text{ miles}}\n",
      "\\]\n",
      "\n",
      "The bird flies **140 miles** before the trains meet.\n",
      "Evaulation: It looks like you've worked through a classic relative motion problem involving two trains moving toward each other and a bird flying between them. Your step-by-step solution and the final answer are correct! Here's a quick evaluation of your approach:\n",
      "\n",
      "---\n",
      "\n",
      "### Strengths of your solution:\n",
      "1. **Clear problem setup:** You clearly stated the given values (distances and speeds).\n",
      "2. **Correct relative speed calculation:** You correctly added the trains' speeds to get their closing rate.\n",
      "3. **Accurate time calculation:** You used the relative speed properly to find the meeting time.\n",
      "4. **Logical use of the bird’s continuous flight:** You multiplied the bird's speed by the total meeting time, which is the key insight to solve the problem efficiently.\n",
      "5. **Good explanation:** Breaking the problem down into steps helps clarify your reasoning.\n",
      "\n",
      "---\n",
      "\n",
      "### Additional validation:\n",
      "- The trains close the gap of 180 miles in \\( \\frac{180}{90} = 2 \\) hours.\n",
      "- The bird flies nonstop for those 2 hours at 70 mph.\n",
      "- Distance traveled by bird = \\(70 \\times 2 = 140\\) miles.\n",
      "\n",
      "This matches the classic solution, confirming your final answer is correct.\n",
      "\n",
      "---\n",
      "\n",
      "### Business idea evaluation (if this is a preliminary assessment for a problem-solving service or educational tool):\n",
      "- **Usefulness:** Demonstrates clear, step-by-step logical reasoning, an important skill in education, engineering, and problem-solving.\n",
      "- **Market:** Such solved examples can be valuable in tutoring platforms, learning apps, or products aimed at improving analytical skills.\n",
      "- **Expansion:** You could develop interactive versions where users input different speeds/distances to see real-time solutions.\n",
      "- **Potential:** The approach encourages breaking down complex problems into manageable steps; very helpful in STEM education.\n",
      "\n",
      "---\n",
      "\n",
      "If you'd like feedback on a specific business idea connected to this problem (e.g., teaching tool, app, or content creation), please share more details!\n"
     ]
    }
   ],
   "source": [
    "# And now - the all important import statement\n",
    "# If you get an import error - head over to troubleshooting in the Setup folder\n",
    "# Even for other LLM providers like Gemini, you still use this OpenAI import - see Guide 9 for why\n",
    "\n",
    "from openai import OpenAI\n",
    "\n",
    "response = openai.chat.completions.create(\n",
    "    model=\"gpt-4.1-mini\",\n",
    "    messages=messages\n",
    ")\n",
    "# Then read the business idea:\n",
    "\n",
    "business_idea = response.choices[0].message.content\n",
    "print(\"Business Idea:\", business_idea)\n",
    "\n",
    "# And repeat! In the next message, include the business idea within the message\n",
    "messages = [{\"role\": \"user\", \"content\": f\"Now evaluate this business idea: {business_idea}\"}]\n",
    "\n",
    "response = openai.chat.completions.create(\n",
    "    model=\"gpt-4.1-mini\",\n",
    "    messages=messages\n",
    ")\n",
    "\n",
    "evaluation = response.choices[0].message.content\n",
    "print(\"Evaulation:\", evaluation)"
   ]
  },
  {
   "cell_type": "code",
   "execution_count": 16,
   "metadata": {},
   "outputs": [
    {
     "data": {
      "text/markdown": [
       "\n",
       "# 💡 Business Idea  \n",
       "Sure! Here’s a unique and creative business idea:\n",
       "\n",
       "**“MoodScape: Personalized Ambiance Experience Pods”**\n",
       "\n",
       "**Concept:**  \n",
       "MoodScape offers customizable, portable ambiance pods that create immersive sensory environments tailored to a user’s mood, preferences, or goals—whether it’s relaxation, creativity, focus, or socializing. Each pod integrates advanced technology using lighting, soundscapes, scents, tactile feedback, and even temperature control to craft a micro-environment optimized for mental and emotional wellbeing.\n",
       "\n",
       "**How it Works:**  \n",
       "- Users select or design their desired “moodscape” via a mobile app, choosing from presets like “Zen Meditation Garden,” “Energizing Coffeehouse,” “Inspiring Art Studio,” or “Cosmic Sleep Chamber.”  \n",
       "- The pod adjusts its LED lighting colors and intensity, plays curated audio (nature sounds, music, white noise), releases subtle essential oil aromas, and modifies internal temperature/humidity to heighten the experience.  \n",
       "- Pods are soundproof and can be rented for sessions in offices, shopping malls, airports, or coworking spaces—or sold for home use.  \n",
       "- Integration with wearable devices allows the pod to monitor heart rate and stress levels to dynamically adjust settings in real time.\n",
       "\n",
       "**Unique Selling Points:**  \n",
       "- Combines multisensory inputs to deeply influence mood and productivity.  \n",
       "- Portable and modular, fitting in unusual locations and adapting to different use cases.  \n",
       "- Customizable and AI-powered to personalize experience based on biometric feedback.  \n",
       "- Cross-industry appeal: wellness, corporate productivity, travel, hospitality, and entertainment.\n",
       "\n",
       "**Potential Revenue Streams:**  \n",
       "- Membership or pay-per-use pod rentals in public/high-traffic locations.  \n",
       "- Direct sales of home/office pods with premium customization options.  \n",
       "- Partnerships with wellness centers, hotels, airports, and companies promoting employee wellbeing.  \n",
       "- Subscription model for ongoing app content and pod software updates.\n",
       "\n",
       "Let me know if you want me to help you flesh out a business plan or marketing strategy for this idea!\n",
       "\n",
       "---\n",
       "\n",
       "# 📊 Evaluation  \n",
       "This is a well-thought-out and innovative business concept with strong potential. Here’s a detailed evaluation of **MoodScape: Personalized Ambiance Experience Pods**:\n",
       "\n",
       "### Strengths\n",
       "\n",
       "1. **Unique Multisensory Experience:**  \n",
       "   Combining lighting, sound, scent, tactile feedback, and temperature is a novel approach to creating immersive environments. Most current products focus on one or two sensory elements, so this full-spectrum approach is a compelling differentiator.\n",
       "\n",
       "2. **Customization & AI Integration:**  \n",
       "   Allowing users to personalize their moodscapes, plus having AI adjust settings in real time based on biometric data, enhances user engagement and effectiveness. This personalization leverages growing trends in wellness tech and biofeedback, which can improve mental wellbeing and productivity.\n",
       "\n",
       "3. **Versatility & Multiple Use Cases:**  \n",
       "   The product appeals to several markets: corporate wellness (offices), travel (airports, hotels), public spaces (shopping malls), personal use (homes), and entertainment (creative environments). This diversification reduces risk and opens more revenue streams.\n",
       "\n",
       "4. **Modular & Portable Design:**  \n",
       "   Being able to install pods in a range of locations, and even rent them, creates flexible business models. The rental model could tap into shared-economy trends, and direct sales capture high-value customers.\n",
       "\n",
       "5. **Trend Alignment:**  \n",
       "   Wellness, mental health, relaxation, and productivity are hot topics where consumers and businesses are willing to invest. The product taps into existing demands for effective stress relief and productivity solutions.\n",
       "\n",
       "---\n",
       "\n",
       "### Challenges & Considerations\n",
       "\n",
       "1. **High Initial Cost & Complexity:**  \n",
       "   Integrating advanced tech (lighting, scent diffusion, tactile feedback, HVAC, biometric sensors) into a compact pod will involve significant R&D and manufacturing costs. This could create barriers to rapid scale or require strong upfront capital.\n",
       "\n",
       "2. **Market Education & Adoption:**  \n",
       "   As a relatively new concept, potential customers might need education on the benefits or how to use the pods effectively. Awareness campaigns and live demonstrations could be necessary to overcome skepticism.\n",
       "\n",
       "3. **Space & Installation Constraints:**  \n",
       "   Despite being portable, each pod requires physical space, power, and maintenance. Finding ideal high-traffic rental locations and securing partnerships may be challenging and time-consuming.\n",
       "\n",
       "4. **Competition & Alternatives:**  \n",
       "   While few competitors offer full pods, there are many partial solutions—wellness apps, noise-canceling headphones, smart diffusers, ergonomic office spaces. MoodScape must clearly communicate its unique value.\n",
       "\n",
       "5. **Privacy & Data Security:**  \n",
       "   Using biometric feedback means handling sensitive personal data. Ensuring data privacy, complying with relevant regulations (e.g. GDPR), and securing devices will be crucial to maintain trust.\n",
       "\n",
       "---\n",
       "\n",
       "### Market Potential & Revenue\n",
       "\n",
       "- **Corporate Clients:** Companies invest heavily in wellness and productivity; placements in offices, coworking spaces, and corporate campuses could generate steady B2B income.\n",
       "- **Travel Industry:** Airports and hotels continuously seek ways to differentiate and improve customer experience.\n",
       "- **Direct Consumers:** The premium home/office pods appeal to affluent consumers focused on self-care.\n",
       "- **Subscription Model:** Continuous revenue from app content and AI updates can create a loyal customer base and steady cash flow.\n",
       "\n",
       "---\n",
       "\n",
       "### Recommendations\n",
       "\n",
       "- **Pilot Program:** Start with prototypes deployed in select offices, coworking spaces, or wellness centers to gather user data and testimonials.\n",
       "- **Focus on Core Features First:** Initially launch with key sensory elements (lighting, sound, scent) and basic biometric integration. Add tactile and temperature control in later versions to manage complexity.\n",
       "- **Partnerships:** Collaborate with wellness brands, tech companies, or real estate developers to reduce market entry barriers.\n",
       "- **Clear KPI Metrics:** Develop measurable outcomes such as stress reduction, productivity improvement, or customer satisfaction to validate the product’s impact.\n",
       "- **Scalable Manufacturing:** Partner with experienced manufacturers early to ensure quality while optimizing costs.\n",
       "\n",
       "---\n",
       "\n",
       "### Overall Assessment\n",
       "\n",
       "MoodScape is an **innovative and timely business idea** that leverages cutting-edge technology and addresses a growing awareness of mental wellbeing and immersive experience trends. While it faces technical and market-entry challenges, its USP and multi-channel revenue model make it highly promising, especially if approached with phased development and strategic partnerships.\n",
       "\n",
       "If you want, I can help you develop a detailed business plan, go-to-market strategy, or financial projections for MoodScape!\n",
       "\n",
       "---\n",
       "\n",
       "# 🚀 Improvements  \n",
       "Certainly! Here are three concrete improvements that could enhance the feasibility, appeal, and scalability of MoodScape:\n",
       "\n",
       "### 1. Add Modular Pod Sizes and Configurations  \n",
       "**Why:** Different customer segments and locations require varying pod footprints. For example, individuals might want a single-person pod for home or office, whereas hotels or wellness centers might prefer multi-person pods for group relaxation or meetings.  \n",
       "**Improvement:** Design MoodScape pods in modular units that can be combined or reconfigured, e.g., single, duo, or lounge setups. Include stackable or expandable models to maximize space efficiency and cater to a wider user base.\n",
       "\n",
       "### 2. Develop Social and Collaborative Modes  \n",
       "**Why:** Socializing and collaboration are important moods/goals that aren’t just about individual experience but group dynamics. Introducing shared experiences can increase usage and revenue, especially in corporate or hospitality settings.  \n",
       "**Improvement:** Incorporate features allowing multiple users to connect their individual pods via the app to synchronize ambiance, music, or discussion modes—enabling remote or in-person collaborative moodscapes, such as co-creating music, meditating as a group, or social gaming environments.\n",
       "\n",
       "### 3. Implement Energy-Efficient and Sustainable Design Features  \n",
       "**Why:** As these pods may become common in public spaces, energy consumption and environmental impact become significant concerns that affect operational costs and brand perception.  \n",
       "**Improvement:** Utilize low-energy LED lighting, efficient HVAC systems, and sustainable materials (e.g., recycled or biodegradable components). Offer options for solar power integration or automatic standby modes to reduce energy use when pods are unoccupied.\n",
       "\n",
       "---\n",
       "\n",
       "These enhancements aim to broaden the target market, deepen user engagement, and address operational sustainability—making MoodScape more viable and attractive to investors and customers alike!\n"
      ],
      "text/plain": [
       "<IPython.core.display.Markdown object>"
      ]
     },
     "metadata": {},
     "output_type": "display_data"
    }
   ],
   "source": [
    "from openai import OpenAI\n",
    "from dotenv import load_dotenv\n",
    "import os\n",
    "from IPython.display import Markdown, display\n",
    "\n",
    "# .env dosyasını yükle\n",
    "load_dotenv(override=True)\n",
    "client = OpenAI(api_key=os.getenv(\"OPENAI_API_KEY\"))\n",
    "\n",
    "# 1. Adım: İş fikri üret\n",
    "messages = [{\"role\": \"user\", \"content\": \"Please propose a unique and creative business idea.\"}]\n",
    "response = client.chat.completions.create(\n",
    "    model=\"gpt-4.1-mini\",\n",
    "    messages=messages\n",
    ")\n",
    "business_idea = response.choices[0].message.content\n",
    "\n",
    "# 2. Adım: İş fikrini değerlendir\n",
    "messages = [{\"role\": \"user\", \"content\": f\"Evaluate this business idea: {business_idea}\"}]\n",
    "response = client.chat.completions.create(\n",
    "    model=\"gpt-4.1-mini\",\n",
    "    messages=messages\n",
    ")\n",
    "evaluation = response.choices[0].message.content\n",
    "\n",
    "# 3. Adım: Geliştirme önerileri ver\n",
    "messages = [{\"role\": \"user\", \"content\": f\"Suggest 3 concrete improvements for this business idea: {business_idea}\"}]\n",
    "response = client.chat.completions.create(\n",
    "    model=\"gpt-4.1-mini\",\n",
    "    messages=messages\n",
    ")\n",
    "improvements = response.choices[0].message.content\n",
    "\n",
    "# Sonuçları Markdown formatında göster\n",
    "display(Markdown(f\"\"\"\n",
    "# 💡 Business Idea  \n",
    "{business_idea}\n",
    "\n",
    "---\n",
    "\n",
    "# 📊 Evaluation  \n",
    "{evaluation}\n",
    "\n",
    "---\n",
    "\n",
    "# 🚀 Improvements  \n",
    "{improvements}\n",
    "\"\"\"))\n",
    "\n"
   ]
  },
  {
   "cell_type": "markdown",
   "metadata": {},
   "source": []
  }
 ],
 "metadata": {
  "kernelspec": {
   "display_name": ".venv",
   "language": "python",
   "name": "python3"
  },
  "language_info": {
   "codemirror_mode": {
    "name": "ipython",
    "version": 3
   },
   "file_extension": ".py",
   "mimetype": "text/x-python",
   "name": "python",
   "nbconvert_exporter": "python",
   "pygments_lexer": "ipython3",
   "version": "3.12.11"
  }
 },
 "nbformat": 4,
 "nbformat_minor": 2
}
